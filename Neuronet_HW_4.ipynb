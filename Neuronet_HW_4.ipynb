{
  "nbformat": 4,
  "nbformat_minor": 0,
  "metadata": {
    "kernelspec": {
      "display_name": "Python 3",
      "language": "python",
      "name": "python3"
    },
    "language_info": {
      "codemirror_mode": {
        "name": "ipython",
        "version": 3
      },
      "file_extension": ".py",
      "mimetype": "text/x-python",
      "name": "python",
      "nbconvert_exporter": "python",
      "pygments_lexer": "ipython3",
      "version": "3.6.10"
    },
    "colab": {
      "name": "Neuronet_HW_4.ipynb",
      "provenance": [],
      "include_colab_link": true
    }
  },
  "cells": [
    {
      "cell_type": "markdown",
      "metadata": {
        "id": "view-in-github",
        "colab_type": "text"
      },
      "source": [
        "<a href=\"https://colab.research.google.com/github/Svetorus/Neuronets/blob/master/Neuronet_HW_4.ipynb\" target=\"_parent\"><img src=\"https://colab.research.google.com/assets/colab-badge.svg\" alt=\"Open In Colab\"/></a>"
      ]
    },
    {
      "cell_type": "markdown",
      "metadata": {
        "id": "affIu9nPtZwi",
        "colab_type": "text"
      },
      "source": [
        "### Нейронная сеть Alexnet."
      ]
    },
    {
      "cell_type": "code",
      "metadata": {
        "id": "dAOohppctZwl",
        "colab_type": "code",
        "colab": {}
      },
      "source": [
        "from keras.datasets import mnist\n",
        "\n",
        "from keras.utils import np_utils\n",
        "\n",
        "from keras.layers import Dense, Dropout, Activation, Flatten\n",
        "from keras.layers import Conv2D, MaxPooling2D"
      ],
      "execution_count": 0,
      "outputs": []
    },
    {
      "cell_type": "code",
      "metadata": {
        "id": "A4Y-JLIutZwx",
        "colab_type": "code",
        "colab": {}
      },
      "source": [
        "# загрузка тренировочных и тестовых данных\n",
        "\n",
        "(x_train, y_train), (x_test, y_test) = mnist.load_data()"
      ],
      "execution_count": 0,
      "outputs": []
    },
    {
      "cell_type": "code",
      "metadata": {
        "id": "NxsY2VKYtZw8",
        "colab_type": "code",
        "colab": {}
      },
      "source": [
        "# конвертация чисел из uint8 в float32\n",
        "\n",
        "x_train = x_train.astype('float32')\n",
        "\n",
        "x_test = x_test.astype('float32')"
      ],
      "execution_count": 0,
      "outputs": []
    },
    {
      "cell_type": "code",
      "metadata": {
        "id": "02YPFz1ltZxD",
        "colab_type": "code",
        "colab": {}
      },
      "source": [
        "# нормализация данных [0, 1]\n",
        "\n",
        "x_train /= 255 \n",
        "\n",
        "x_test /= 255 "
      ],
      "execution_count": 0,
      "outputs": []
    },
    {
      "cell_type": "code",
      "metadata": {
        "id": "3L83_mrQtZxK",
        "colab_type": "code",
        "colab": {}
      },
      "source": [
        "# трансформация лейблов в one-hot encoding\n",
        "\n",
        "y_train = np_utils.to_categorical(y_train, 10) \n",
        "\n",
        "y_test = np_utils.to_categorical(y_test, 10) "
      ],
      "execution_count": 0,
      "outputs": []
    },
    {
      "cell_type": "code",
      "metadata": {
        "id": "OHTZ98cvtZxQ",
        "colab_type": "code",
        "colab": {}
      },
      "source": [
        "# изменение размерности массива в 4D массив\n",
        "\n",
        "x_train = x_train.reshape(x_train.shape[0], 28,28,1)\n",
        "\n",
        "x_test = x_test.reshape(x_test.shape[0], 28,28,1)"
      ],
      "execution_count": 0,
      "outputs": []
    },
    {
      "cell_type": "code",
      "metadata": {
        "id": "LdELFgm2tZxY",
        "colab_type": "code",
        "colab": {}
      },
      "source": [
        "from keras.models import Sequential\n",
        "\n",
        "from keras import models, layers\n",
        "\n",
        "import keras"
      ],
      "execution_count": 0,
      "outputs": []
    },
    {
      "cell_type": "code",
      "metadata": {
        "id": "FEYkJNL1tZxc",
        "colab_type": "code",
        "colab": {}
      },
      "source": [
        "# инициализация пустой модели\n",
        "\n",
        "model = Sequential()"
      ],
      "execution_count": 0,
      "outputs": []
    },
    {
      "cell_type": "code",
      "metadata": {
        "id": "-U4LjF3ttZxh",
        "colab_type": "code",
        "colab": {}
      },
      "source": [
        "# слои нейросети отвественные за свертку и max-pooling\n",
        "model.add(Conv2D(32, (3, 3), padding='same',\n",
        "                 input_shape=x_train.shape[1:]))\n",
        "model.add(Activation('relu'))\n",
        "model.add(Conv2D(32, (3, 3)))\n",
        "model.add(Activation('relu'))\n",
        "model.add(MaxPooling2D(pool_size=(2, 2)))\n",
        "model.add(Dropout(0.25))\n",
        "\n",
        "model.add(Conv2D(64, (3, 3), padding='same'))\n",
        "model.add(Activation('relu'))\n",
        "model.add(Conv2D(64, (3, 3)))\n",
        "model.add(Activation('relu'))\n",
        "model.add(MaxPooling2D(pool_size=(2, 2)))\n",
        "model.add(Dropout(0.25))"
      ],
      "execution_count": 0,
      "outputs": []
    },
    {
      "cell_type": "code",
      "metadata": {
        "id": "yAPYM27PtZxo",
        "colab_type": "code",
        "colab": {}
      },
      "source": [
        ""
      ],
      "execution_count": 0,
      "outputs": []
    },
    {
      "cell_type": "markdown",
      "metadata": {
        "id": "cmZ-VHsztZxt",
        "colab_type": "raw"
      },
      "source": [
        "# первый сверточный слой\n",
        "\n",
        "model.add(layers.Conv2D(6, kernel_size=(5, 5), strides=(1, 1), activation='tanh', input_shape=(28,28,1), padding=\"same\"))\n",
        "\n",
        "# второй пуллинговый слой\n",
        "\n",
        "model.add(layers.AveragePooling2D(pool_size=(2, 2), strides=(1, 1), padding='valid'))\n",
        "\n",
        "# третий сверточный слой\n",
        "\n",
        "model.add(layers.Conv2D(16, kernel_size=(5, 5), strides=(1, 1), activation='tanh', padding='valid'))\n",
        "\n",
        "# четвертый пуллинговый слой\n",
        "\n",
        "model.add(layers.AveragePooling2D(pool_size=(2, 2), strides=(2, 2), padding='valid'))\n",
        "\n",
        "# пятый полносвязный слой\n",
        "\n",
        "model.add(layers.Conv2D(120, kernel_size=(5, 5), strides=(1, 1), activation='tanh', padding='valid'))"
      ]
    },
    {
      "cell_type": "code",
      "metadata": {
        "id": "Ry-Wy22dtZxt",
        "colab_type": "code",
        "colab": {}
      },
      "source": [
        "# сглаживание CNN выхода чтобы можно было его присоединить к полносвязногому слою\n",
        "\n",
        "model.add(layers.Flatten())"
      ],
      "execution_count": 0,
      "outputs": []
    },
    {
      "cell_type": "code",
      "metadata": {
        "id": "Nb36KodHtZxz",
        "colab_type": "code",
        "colab": {}
      },
      "source": [
        "# шестой полносвязный слой\n",
        "\n",
        "model.add(layers.Dense(84, activation='relu'))"
      ],
      "execution_count": 0,
      "outputs": []
    },
    {
      "cell_type": "code",
      "metadata": {
        "id": "lTU4sSR1tZx5",
        "colab_type": "code",
        "colab": {}
      },
      "source": [
        "# выходной слой с функцией активации softmax\n",
        "\n",
        "model.add(layers.Dense(10, activation='softmax'))"
      ],
      "execution_count": 0,
      "outputs": []
    },
    {
      "cell_type": "code",
      "metadata": {
        "id": "dc-kb9HItZx_",
        "colab_type": "code",
        "colab": {}
      },
      "source": [
        "# компилияция модели\n",
        "\n",
        "model.compile(loss=keras.losses.categorical_crossentropy, optimizer='SGD', metrics=[\"accuracy\"])\n"
      ],
      "execution_count": 0,
      "outputs": []
    },
    {
      "cell_type": "code",
      "metadata": {
        "id": "pItj_84mtZyD",
        "colab_type": "code",
        "colab": {},
        "outputId": "6eed4118-2858-44d5-862e-0684d9b7f8ad"
      },
      "source": [
        "hist = model.fit(x=x_train,y=y_train, epochs=1, batch_size=128, validation_data=(x_test, y_test), verbose=1)"
      ],
      "execution_count": 0,
      "outputs": [
        {
          "output_type": "stream",
          "text": [
            "Train on 60000 samples, validate on 10000 samples\n",
            "Epoch 1/1\n",
            "60000/60000 [==============================] - 42s 707us/step - loss: 1.5663 - accuracy: 0.4902 - val_loss: 0.3494 - val_accuracy: 0.9028\n"
          ],
          "name": "stdout"
        }
      ]
    },
    {
      "cell_type": "code",
      "metadata": {
        "id": "WHPEIM2JtZyK",
        "colab_type": "code",
        "colab": {},
        "outputId": "3621e6c6-8f15-45e1-f896-7bc31a7c54d4"
      },
      "source": [
        "test_score = model.evaluate(x_test, y_test)\n",
        "\n",
        "print(\"Test loss {:.4f}, accuracy {:.2f}%\".format(test_score[0], test_score[1] * 100))"
      ],
      "execution_count": 0,
      "outputs": [
        {
          "output_type": "stream",
          "text": [
            "10000/10000 [==============================] - 2s 168us/step\n",
            "Test loss 0.3494, accuracy 90.28%\n"
          ],
          "name": "stdout"
        }
      ]
    }
  ]
}