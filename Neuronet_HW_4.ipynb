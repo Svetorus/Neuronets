{
  "nbformat": 4,
  "nbformat_minor": 0,
  "metadata": {
    "kernelspec": {
      "display_name": "Python 3",
      "language": "python",
      "name": "python3"
    },
    "language_info": {
      "codemirror_mode": {
        "name": "ipython",
        "version": 3
      },
      "file_extension": ".py",
      "mimetype": "text/x-python",
      "name": "python",
      "nbconvert_exporter": "python",
      "pygments_lexer": "ipython3",
      "version": "3.6.10"
    },
    "colab": {
      "name": "Neuronet_HW_4.ipynb",
      "provenance": [],
      "include_colab_link": true
    }
  },
  "cells": [
    {
      "cell_type": "markdown",
      "metadata": {
        "id": "view-in-github",
        "colab_type": "text"
      },
      "source": [
        "<a href=\"https://colab.research.google.com/github/Svetorus/Neuronets/blob/master/Neuronet_HW_4.ipynb\" target=\"_parent\"><img src=\"https://colab.research.google.com/assets/colab-badge.svg\" alt=\"Open In Colab\"/></a>"
      ]
    },
    {
      "cell_type": "markdown",
      "metadata": {
        "id": "pH5cWueRFNIt",
        "colab_type": "text"
      },
      "source": [
        "### Нейронная сеть Alexnet."
      ]
    },
    {
      "cell_type": "code",
      "metadata": {
        "id": "1Cr6dO_0FNIx",
        "colab_type": "code",
        "colab": {},
        "outputId": "1df95738-bc3b-44f5-95eb-bc152c103dd6"
      },
      "source": [
        "from keras.datasets import mnist\n",
        "\n",
        "from keras.utils import np_utils\n",
        "\n",
        "from keras.layers import Dense, Dropout, Activation, Flatten\n",
        "from keras.layers import Conv2D, MaxPooling2D"
      ],
      "execution_count": 0,
      "outputs": [
        {
          "output_type": "stream",
          "text": [
            "Using TensorFlow backend.\n"
          ],
          "name": "stderr"
        }
      ]
    },
    {
      "cell_type": "code",
      "metadata": {
        "id": "aUXBUnG1FNI-",
        "colab_type": "code",
        "colab": {}
      },
      "source": [
        "# загрузка тренировочных и тестовых данных\n",
        "\n",
        "(x_train, y_train), (x_test, y_test) = mnist.load_data()"
      ],
      "execution_count": 0,
      "outputs": []
    },
    {
      "cell_type": "code",
      "metadata": {
        "id": "uISh_xasFNJH",
        "colab_type": "code",
        "colab": {}
      },
      "source": [
        "# конвертация чисел из uint8 в float32\n",
        "\n",
        "x_train = x_train.astype('float32')\n",
        "\n",
        "x_test = x_test.astype('float32')"
      ],
      "execution_count": 0,
      "outputs": []
    },
    {
      "cell_type": "code",
      "metadata": {
        "id": "7Sd_tjOQFNJQ",
        "colab_type": "code",
        "colab": {}
      },
      "source": [
        "# нормализация данных [0, 1]\n",
        "\n",
        "x_train /= 255 \n",
        "\n",
        "x_test /= 255 "
      ],
      "execution_count": 0,
      "outputs": []
    },
    {
      "cell_type": "code",
      "metadata": {
        "id": "-Wz-TNmhFNJX",
        "colab_type": "code",
        "colab": {}
      },
      "source": [
        "# трансформация лейблов в one-hot encoding\n",
        "\n",
        "y_train = np_utils.to_categorical(y_train, 10) \n",
        "\n",
        "y_test = np_utils.to_categorical(y_test, 10) "
      ],
      "execution_count": 0,
      "outputs": []
    },
    {
      "cell_type": "code",
      "metadata": {
        "id": "KV-gT8GtFNJh",
        "colab_type": "code",
        "colab": {}
      },
      "source": [
        "# изменение размерности массива в 4D массив\n",
        "\n",
        "x_train = x_train.reshape(x_train.shape[0], 28,28,1)\n",
        "\n",
        "x_test = x_test.reshape(x_test.shape[0], 28,28,1)"
      ],
      "execution_count": 0,
      "outputs": []
    },
    {
      "cell_type": "code",
      "metadata": {
        "id": "UloG26a9FNJm",
        "colab_type": "code",
        "colab": {}
      },
      "source": [
        "from keras.models import Sequential\n",
        "\n",
        "from keras import models, layers\n",
        "\n",
        "import keras"
      ],
      "execution_count": 0,
      "outputs": []
    },
    {
      "cell_type": "code",
      "metadata": {
        "id": "xRpmDumhFNJr",
        "colab_type": "code",
        "colab": {}
      },
      "source": [
        "# инициализация пустой модели\n",
        "\n",
        "model = Sequential()"
      ],
      "execution_count": 0,
      "outputs": []
    },
    {
      "cell_type": "code",
      "metadata": {
        "id": "IrV9I0MdFNJw",
        "colab_type": "code",
        "colab": {}
      },
      "source": [
        "# слои нейросети отвественные за свертку и max-pooling\n",
        "model.add(Conv2D(32, (3, 3), padding='same',\n",
        "                 input_shape=x_train.shape[1:]))\n",
        "model.add(Activation('relu'))\n",
        "model.add(MaxPooling2D(pool_size=(2, 2)))\n",
        "model.add(Conv2D(32, (3, 3)))\n",
        "model.add(Activation('relu'))\n",
        "model.add(MaxPooling2D(pool_size=(2, 2),strides=(1, 1)))\n",
        "model.add(Dropout(0.25))\n",
        "\n",
        "model.add(Conv2D(64, (3, 3), padding='same'))\n",
        "model.add(Activation('relu'))\n",
        "model.add(Conv2D(64, (3, 3)))\n",
        "model.add(Activation('relu'))\n",
        "model.add(MaxPooling2D(pool_size=(2, 2)))\n",
        "model.add(Dropout(0.25))"
      ],
      "execution_count": 0,
      "outputs": []
    },
    {
      "cell_type": "code",
      "metadata": {
        "id": "pDoa9fCgFNJ2",
        "colab_type": "code",
        "colab": {}
      },
      "source": [
        "# сглаживание CNN выхода чтобы можно было его присоединить к полносвязногому слою\n",
        "\n",
        "model.add(layers.Flatten())\n",
        "\n",
        "# полносвязный слой\n",
        "\n",
        "model.add(layers.Dense(84, activation='relu'))\n",
        "\n",
        "# выходной слой с функцией активации softmax\n",
        "\n",
        "model.add(layers.Dense(10, activation='softmax'))"
      ],
      "execution_count": 0,
      "outputs": []
    },
    {
      "cell_type": "code",
      "metadata": {
        "id": "9NiyiymhFNJ8",
        "colab_type": "code",
        "colab": {}
      },
      "source": [
        "# компилияция модели\n",
        "\n",
        "model.compile(loss=keras.losses.categorical_crossentropy, optimizer='SGD', metrics=[\"accuracy\"])\n"
      ],
      "execution_count": 0,
      "outputs": []
    },
    {
      "cell_type": "code",
      "metadata": {
        "id": "P_6iOtRHFNKB",
        "colab_type": "code",
        "colab": {},
        "outputId": "d2fced01-fb59-48ab-f281-e747f2f80797"
      },
      "source": [
        "hist = model.fit(x=x_train,y=y_train, epochs=2, batch_size=128, validation_data=(x_test, y_test), verbose=1)"
      ],
      "execution_count": 0,
      "outputs": [
        {
          "output_type": "stream",
          "text": [
            "Train on 60000 samples, validate on 10000 samples\n",
            "Epoch 1/2\n",
            "60000/60000 [==============================] - 25s 414us/step - loss: 1.5298 - accuracy: 0.4816 - val_loss: 0.3823 - val_accuracy: 0.8942\n",
            "Epoch 2/2\n",
            "60000/60000 [==============================] - 26s 439us/step - loss: 0.3637 - accuracy: 0.8881 - val_loss: 0.1866 - val_accuracy: 0.9447\n"
          ],
          "name": "stdout"
        }
      ]
    },
    {
      "cell_type": "code",
      "metadata": {
        "id": "N9PxSuYhFNKH",
        "colab_type": "code",
        "colab": {},
        "outputId": "509dcba7-e989-4e28-f9fa-a92554e0dbb3"
      },
      "source": [
        "test_score = model.evaluate(x_test, y_test)\n",
        "\n",
        "print(\"Test loss {:.4f}, accuracy {:.2f}%\".format(test_score[0], test_score[1] * 100))"
      ],
      "execution_count": 0,
      "outputs": [
        {
          "output_type": "stream",
          "text": [
            "10000/10000 [==============================] - 1s 131us/step\n",
            "Test loss 0.1866, accuracy 94.47%\n"
          ],
          "name": "stdout"
        }
      ]
    }
  ]
}