{
  "nbformat": 4,
  "nbformat_minor": 0,
  "metadata": {
    "kernelspec": {
      "display_name": "Python 3",
      "language": "python",
      "name": "python3"
    },
    "language_info": {
      "codemirror_mode": {
        "name": "ipython",
        "version": 3
      },
      "file_extension": ".py",
      "mimetype": "text/x-python",
      "name": "python",
      "nbconvert_exporter": "python",
      "pygments_lexer": "ipython3",
      "version": "3.6.10"
    },
    "colab": {
      "name": "Neuronet_HW_2.ipynb",
      "provenance": [],
      "include_colab_link": true
    }
  },
  "cells": [
    {
      "cell_type": "markdown",
      "metadata": {
        "id": "view-in-github",
        "colab_type": "text"
      },
      "source": [
        "<a href=\"https://colab.research.google.com/github/Svetorus/Neuronets/blob/master/Neuronet_HW_2.ipynb\" target=\"_parent\"><img src=\"https://colab.research.google.com/assets/colab-badge.svg\" alt=\"Open In Colab\"/></a>"
      ]
    },
    {
      "cell_type": "code",
      "metadata": {
        "id": "QLd7RR5-PpuW",
        "colab_type": "code",
        "colab": {}
      },
      "source": [
        "#!pip install mnist\n",
        "#!pip install keras\n",
        "#!pip install TensorFlow"
      ],
      "execution_count": 0,
      "outputs": []
    },
    {
      "cell_type": "code",
      "metadata": {
        "id": "0pTyI_1EPpuh",
        "colab_type": "code",
        "colab": {}
      },
      "source": [
        "import numpy as np\n",
        "import mnist \n",
        "from keras.models import Sequential\n",
        "from keras.layers import Dense\n",
        "from keras.utils import to_categorical"
      ],
      "execution_count": 0,
      "outputs": []
    },
    {
      "cell_type": "code",
      "metadata": {
        "id": "QSsz2MiPPpur",
        "colab_type": "code",
        "colab": {}
      },
      "source": [
        "train_images = mnist.train_images()\n",
        "train_labels = mnist.train_labels()\n",
        "test_images = mnist.test_images()\n",
        "test_labels = mnist.test_labels()\n",
        "\n",
        "# Normalize the images.\n",
        "train_images = (train_images / 255) \n",
        "test_images = (test_images / 255)"
      ],
      "execution_count": 0,
      "outputs": []
    },
    {
      "cell_type": "code",
      "metadata": {
        "id": "5gCZZxemPpu0",
        "colab_type": "code",
        "colab": {}
      },
      "source": [
        "# Flatten the images.\n",
        "train_images = train_images.reshape((-1, 784))\n",
        "test_images = test_images.reshape((-1, 784))"
      ],
      "execution_count": 0,
      "outputs": []
    },
    {
      "cell_type": "code",
      "metadata": {
        "id": "v82kdefXPpu5",
        "colab_type": "code",
        "colab": {}
      },
      "source": [
        "# Build the model.\n",
        "model = Sequential([\n",
        "  Dense(128, activation='relu', input_shape=(784,)),\n",
        "  Dense(128, activation='relu'),\n",
        "  Dense(10, activation='softmax'),\n",
        "])"
      ],
      "execution_count": 0,
      "outputs": []
    },
    {
      "cell_type": "code",
      "metadata": {
        "id": "vTeBJK0xPpvB",
        "colab_type": "code",
        "colab": {}
      },
      "source": [
        "# Compile the model.\n",
        "model.compile(\n",
        "  optimizer='adam',\n",
        "  loss='categorical_crossentropy',\n",
        "  metrics=['accuracy']\n",
        ")"
      ],
      "execution_count": 0,
      "outputs": []
    },
    {
      "cell_type": "code",
      "metadata": {
        "id": "uNTHj_JTPpvH",
        "colab_type": "code",
        "colab": {},
        "outputId": "5fa570a6-8d2e-48d7-a6a5-1a5091d5e461"
      },
      "source": [
        "# Train the model.\n",
        "model.fit(\n",
        "  train_images,\n",
        "  to_categorical(train_labels),\n",
        "  epochs=5,\n",
        "  batch_size=12\n",
        ")"
      ],
      "execution_count": 0,
      "outputs": [
        {
          "output_type": "stream",
          "text": [
            "Epoch 1/5\n",
            "60000/60000 [==============================] - 11s 177us/step - loss: 0.0501 - accuracy: 0.9839\n",
            "Epoch 2/5\n",
            "60000/60000 [==============================] - 13s 214us/step - loss: 0.0407 - accuracy: 0.9867\n",
            "Epoch 3/5\n",
            "60000/60000 [==============================] - 9s 154us/step - loss: 0.0339 - accuracy: 0.9887\n",
            "Epoch 4/5\n",
            "60000/60000 [==============================] - 14s 229us/step - loss: 0.0319 - accuracy: 0.9896\n",
            "Epoch 5/5\n",
            "60000/60000 [==============================] - 11s 189us/step - loss: 0.0277 - accuracy: 0.9913\n"
          ],
          "name": "stdout"
        },
        {
          "output_type": "execute_result",
          "data": {
            "text/plain": [
              "<keras.callbacks.callbacks.History at 0x7f2204afd470>"
            ]
          },
          "metadata": {
            "tags": []
          },
          "execution_count": 101
        }
      ]
    },
    {
      "cell_type": "code",
      "metadata": {
        "id": "gSGcSlkkPpvO",
        "colab_type": "code",
        "colab": {},
        "outputId": "2c3aad6b-5090-48bf-c170-a10d25af3009"
      },
      "source": [
        "# Evaluate the model.\n",
        "model.evaluate(\n",
        "  test_images,\n",
        "  to_categorical(test_labels)\n",
        ")"
      ],
      "execution_count": 0,
      "outputs": [
        {
          "output_type": "stream",
          "text": [
            "10000/10000 [==============================] - 0s 20us/step\n"
          ],
          "name": "stdout"
        },
        {
          "output_type": "execute_result",
          "data": {
            "text/plain": [
              "[0.13075453202533607, 0.9735000133514404]"
            ]
          },
          "metadata": {
            "tags": []
          },
          "execution_count": 102
        }
      ]
    },
    {
      "cell_type": "code",
      "metadata": {
        "id": "V40q_R01PpvT",
        "colab_type": "code",
        "colab": {}
      },
      "source": [
        "# Save the model to disk.\n",
        "model.save_weights('model.h5')\n",
        "\n",
        "# Load the model from disk later using:\n",
        "# model.load_weights('model.h5')"
      ],
      "execution_count": 0,
      "outputs": []
    },
    {
      "cell_type": "code",
      "metadata": {
        "id": "F1haIoEVPpvZ",
        "colab_type": "code",
        "colab": {}
      },
      "source": [
        "# Predict on the first 5 test images.\n",
        "predictions = model.predict(test_images[:5])"
      ],
      "execution_count": 0,
      "outputs": []
    },
    {
      "cell_type": "code",
      "metadata": {
        "id": "o-BZ3HG7Ppvf",
        "colab_type": "code",
        "colab": {},
        "outputId": "84ce0eee-6930-4cb5-bd20-490de6f4aead"
      },
      "source": [
        "# Print our model's predictions.\n",
        "print(np.argmax(predictions, axis=1)) # [7, 2, 1, 0, 4]"
      ],
      "execution_count": 0,
      "outputs": [
        {
          "output_type": "stream",
          "text": [
            "[7 2 1 0 4]\n"
          ],
          "name": "stdout"
        }
      ]
    },
    {
      "cell_type": "code",
      "metadata": {
        "id": "EfbrNwWYPpvl",
        "colab_type": "code",
        "colab": {},
        "outputId": "8f54fa6d-74e9-48c3-ca2c-86b4c509368f"
      },
      "source": [
        "# Check our predictions against the ground truths.\n",
        "print(test_labels[:5]) # [7, 2, 1, 0, 4]"
      ],
      "execution_count": 0,
      "outputs": [
        {
          "output_type": "stream",
          "text": [
            "[7 2 1 0 4]\n"
          ],
          "name": "stdout"
        }
      ]
    },
    {
      "cell_type": "markdown",
      "metadata": {
        "id": "BXIOjw92Ppvr",
        "colab_type": "text"
      },
      "source": [
        "<font color='blue'>Вывод:</font>\n",
        "Увеличив нейронов до 128 и понизив число батчей до 12, мы получаем хороший результат с первой эпохи."
      ]
    }
  ]
}